{
  "metadata": {
    "kernelspec": {
      "name": "python",
      "display_name": "Python (Pyodide)",
      "language": "python"
    },
    "language_info": {
      "codemirror_mode": {
        "name": "python",
        "version": 3
      },
      "file_extension": ".py",
      "mimetype": "text/x-python",
      "name": "python",
      "nbconvert_exporter": "python",
      "pygments_lexer": "ipython3",
      "version": "3.8"
    }
  },
  "nbformat_minor": 5,
  "nbformat": 4,
  "cells": [
    {
      "id": "0ee4b1e1-00bc-4b09-8224-e48eed815d7a",
      "cell_type": "raw",
      "source": "1. What are data structures, and why are they important?\n    - The way of organizing and storing data so that it can be accessed and manupaliting efficiently and it is important because they make the code   more efficient, and they make the code easier to understand.\n\n2. Explain the difference between mutable and immutable data types with examples .\n    - Mutables data types are the types which are changeable which can be replaced after created eg:list,dictionaries etc.\n    - Immutable data types are the types which are not changed after they created eg: number,boolens,string etc.\n\n3. What are the main differences between lists and tuples in Python ?\n    - List is an ordered collection of element that can be of any data type and it is mutable\n    - Tuples are ordered collection of element and it also can store any data type but tuples are immutable\n\n4.  Describe how dictionaries store data.\n    - Dictionary is a data structure that stores data as a key value pair\n\n5. Why might you use a set instead of a list in Python?\n    - A set is a collection of unordered, unique elements, while a list is an ordered collection that can contain duplicates.\n    - set is used on the behalf of list because sets have uniqueness of element \n    - In set order does'nt matter.\n    - Sets support mathematical set operations like union, intersection, difference, and symmetric difference (e.g., set1 & set2, set1 | set2).\n\n6. What is a string in Python, and how is it different from a list?\n    - String is a sequence of character, it represent and manipulate textual data. \n    - Strings are immutable but it can be modify while lists are mutable.\n    - String contain only character but list  Can contain elements of different data types, including strings, integers, and other objects.\n    - Strung supports operations like concatenation, slicing, and formatting, List supports operations like concatenation, slicing, and formatting.\n\n7.  How do tuples ensure data integrity in Python?\n    - Tuples ensure data integrity in Python through immutability and hashability.\n    - Tuples once created it cannot be modified, This prevents accidental modifications, making tuples ideal for storing constant or critical data.\n\n8. What is a hash table, and how does it relate to dictionaries in Python?\n    -A hash table is a data structure that stores key-value pairs and provides efficient data retrieval based on keys. It uses a hash function to compute an index (also known as a hash code) into an array of buckets or slots, from which the desired value can be found. This allows for average-case constant time complexity, O(1), for search, insertion, and deletion operations.\n    -  Dictionaries are built upon the hash table data structure, providing efficient key-value storage and retrieval by utilizing hashing mechanisms.\n\n9. Can lists contain different data types in Python?\n    - Yes lists contain all data types in python\n\n10. Explain why strings are immutable in Python? \n    - In Python, strings are immutable, meaning that once a string is created, its content cannot be changed. because immutability ensures that a string's value remains constant throughout its lifetime, preventing accidental or unintended modifications. This leads to more predictable and reliable code While immutability means that strings cannot be changed in place, operations that appear to modify a string, such as concatenation or slicing, actually create and return new string objects. This behavior ensures that the original string remains unchanged, maintaining the benefits outlined above.\n\n11. What advantages do dictionaries offer over lists for certain tasks?\n    - In Python, both lists and dictionaries are versatile data structures, but dictionaries offer specific advantages over lists for certain tasks:\n    - Dictionaries provide average case constant time, 0(1), for retrieving value based on their unique keys\n    - Dictionaries are mutable, allowing for the addition, modification, or removal of key-value pairs as needed.\n    - Dictionaries maintain efficient performance even with large datasets, as their lookup time remains constant regardless of the number of elements.\n\n12. Describe a scenario where using a tuple would be preferable over a list.\n    - In Python, choosing between a tuple and a list depends on the specific requirements of your task. Tuples are immutable sequences, meaning their contents cannot be changed after creation, while lists are mutable and can be modified. This immutability makes tuples suitable for certain scenarios.\n    - Consider a situation where you need to use composite keys in a dictionary. Since dictionary keys must be immutable and hashable, tuples are ideal candidates. Lists, being mutable, cannot be used as dictionary keys.\n\n13. How do sets handle duplicate values in Python?\n    -In Python, sets automatically handle duplicate values by ensuring that all elements are unique. When you add duplicate values to a set, Python eliminates the duplicates and retains only distinct elements.\n\n14. How does the “in” keyword work differently for lists and dictionaries?\n    - The in keyword in Python is used to check for membership in a collection (e.g., lists, dictionaries, sets, tuples, and strings). However, it works differently for lists and dictionaries due to their underlying structures.\n    - List check wheather a value is exist or not, When used with dictionaries, in checks only the keys, not the values.\n    - It performs a linear search (O(n)), meaning it checks each element one by one until it finds a match or reaches the end, but in dictionaries it performs a hash table lookup (O(1) on average, O(n) in worst case), making it much faster than searching in a list.\n\n15. Can you modify the elements of a tuple? Explain why or why not.\n    - No, you cannot modify the elements of a tuple in Python because tuples are immutable. This means that once a tuple is created, its elements cannot be changed, added, or removed because they can be stored more efficiently in memory compared to lists.Immutable tuples can be used as dictionary keys and set elements, unlike lists.\n\n16. What is a nested dictionary, and give an example of its use case?\n    - A nested dictionary in Python is a dictionary that contains one or more dictionaries as values. It allows hierarchical or structured data storage.\n    \n17. Describe the time complexity of accessing elements in a dictionary\n    - Python, dictionaries are implemented as hash tables, which allow for efficient lookup operations. The time complexity of accessing an element in a dictionary depends on whether it is a best-case, average-case, or worst-case scenario.\n\n18. In what situations are lists preferred over dictionaries\n    - Both lists and dictionaries are fundamental data structures in Python, but lists are preferable in certain scenarios where ordered, indexed, and sequential data processing is needed. Below are the key situations where lists are a better choice than dictionaries\n\n19. Why are dictionaries considered unordered, and how does that affect data retrieval?\n    - In Python before version 3.7, dictionaries were considered unordered because they used a hash table internally, which does not guarantee that elements are stored in the same order as they were inserted. The insertion order was not preserved, meaning that iterating over a dictionary could return items in an unpredictable sequence.\n    # how does that effect\n    - Starting from Python 3.7 (and officially guaranteed in Python 3.8+), dictionaries maintain insertion order by default. This means that when you iterate over a dictionary, the items will appear in the same order in which they were added.\n\n20.  Explain the difference between a list and a dictionary in terms of data retrieval.\n    - 1. Data Retrieval in Lists\nRetrieval is based on index (position-based)\nLists store elements sequentially and retrieve data using zero-based indexing.\nAccessing an element by index takes O(1) time.\n\n    -2. Data Retrieval in Dictionaries\nRetrieval is based on keys (key-value mapping)\nUnlike lists, dictionaries store data as key-value pairs, allowing retrieval by key instead of position.\nDictionary lookup by key is very fast—O(1) time complexity on average.\n\n\n\n\n",
      "metadata": {}
    },
    {
      "id": "5437074d-1cec-4a1d-9fda-df5e4a98732b",
      "cell_type": "code",
      "source": "# example of use case of Q 16\n# Nested dictionary representing student records\nstudents = {\n    \"101\": {\n        \"name\": \"Alice\",\n        \"age\": 20,\n        \"grades\": {\"Math\": 90, \"Science\": 85, \"English\": 88}\n    },\n    \"102\": {\n        \"name\": \"Bob\",\n        \"age\": 21,\n        \"grades\": {\"Math\": 78, \"Science\": 80, \"English\": 75}\n    }\n}\n\n# Accessing Bob's Science grade\nprint(students[\"102\"][\"grades\"][\"Science\"])  # Output: 80\n",
      "metadata": {
        "trusted": true
      },
      "outputs": [
        {
          "name": "stdout",
          "output_type": "stream",
          "text": "80\n"
        }
      ],
      "execution_count": 3
    },
    {
      "id": "db4d6516-b20f-4df8-afa3-e1d556c62902",
      "cell_type": "code",
      "source": "# 1. Write a code to create a string with your name and print it.\nmy_name=\"Ansh kashyap\"\nprint(\"Ansh kashyap\")\n\n",
      "metadata": {
        "trusted": true
      },
      "outputs": [
        {
          "name": "stdout",
          "output_type": "stream",
          "text": "Ansh kashyap\n"
        }
      ],
      "execution_count": 4
    },
    {
      "id": "e6af2e00-e7c0-47a1-a736-5e627db0b285",
      "cell_type": "code",
      "source": "# 2. Write a code to find the length of the string \"Hello World\".\na = \"Hello world\"\nlen(a)",
      "metadata": {
        "trusted": true
      },
      "outputs": [
        {
          "execution_count": 5,
          "output_type": "execute_result",
          "data": {
            "text/plain": "11"
          },
          "metadata": {}
        }
      ],
      "execution_count": 5
    },
    {
      "id": "6ec409ca-a5f8-4ba2-9182-6a5a32b2909c",
      "cell_type": "code",
      "source": "# 3.  Write a code to slice the first 3 characters from the string \"Python Programming\".\ntext = \"Python Programming\"\nsliced_text = text[:3]\nprint (sliced_text)\n",
      "metadata": {
        "trusted": true
      },
      "outputs": [
        {
          "name": "stdout",
          "output_type": "stream",
          "text": "Pyt\n"
        }
      ],
      "execution_count": 1
    },
    {
      "id": "7a837d77-00fc-43cc-bb23-b57880affea9",
      "cell_type": "code",
      "source": "# 4. Write a code to convert the string \"hello\" to uppercase.\nstring = \"hello\"\nuppercase_text = string.upper()  \nprint(uppercase_text)\n",
      "metadata": {
        "trusted": true
      },
      "outputs": [
        {
          "name": "stdout",
          "output_type": "stream",
          "text": "HELLO\n"
        }
      ],
      "execution_count": 11
    },
    {
      "id": "f3c050df-52c0-42e3-b924-858cdac0a1b2",
      "cell_type": "code",
      "source": "# 5.Write a code to replace the word \"apple\" with \"orange\" in the string \"I like apple\"\na = \"I like apple\"\nreplace_text = a.replace(\"apple\" , \"orange\") \nprint(replace_text)",
      "metadata": {
        "trusted": true
      },
      "outputs": [
        {
          "name": "stdout",
          "output_type": "stream",
          "text": "I like orange\n"
        }
      ],
      "execution_count": 10
    },
    {
      "id": "d5dbeeca-5c65-4ad7-9c01-d19c5ae103eb",
      "cell_type": "code",
      "source": "# 6. Write a code to create a list with numbers 1 to 5 and print it.\ns = [1,2,3,4,5]\ntype(s)",
      "metadata": {
        "trusted": true
      },
      "outputs": [
        {
          "execution_count": 12,
          "output_type": "execute_result",
          "data": {
            "text/plain": "list"
          },
          "metadata": {}
        }
      ],
      "execution_count": 12
    },
    {
      "id": "1a3090e0-ad7e-408d-ad40-151483c1a430",
      "cell_type": "code",
      "source": "# 7. Write a code to append the number 10 to the list [1, 2, 3, 4].\na = [1,2,3,4]\na.append(10)\nprint(a)",
      "metadata": {
        "trusted": true
      },
      "outputs": [
        {
          "name": "stdout",
          "output_type": "stream",
          "text": "[1, 2, 3, 4, 10]\n"
        }
      ],
      "execution_count": 14
    },
    {
      "id": "ffb7c4f2-b31e-4f36-85da-d3e63a111a72",
      "cell_type": "code",
      "source": "# 8. Write a code to remove the number 3 from the list [1, 2, 3, 4, 5].\nh = [1,2,3,4,5]\nh.remove(3)\nprint(h)\n",
      "metadata": {
        "trusted": true
      },
      "outputs": [
        {
          "name": "stdout",
          "output_type": "stream",
          "text": "[1, 2, 4, 5]\n"
        }
      ],
      "execution_count": 16
    },
    {
      "id": "21f0aea1-abbf-4952-ae93-76bc0447e81a",
      "cell_type": "code",
      "source": "# 9. Write a code to access the second element in the list ['a', 'b', 'c', 'd'].\nmy_list = ['a', 'b', 'c', 'd']\nsecond_element = my_list[1]\nprint(second_element)\n",
      "metadata": {
        "trusted": true
      },
      "outputs": [
        {
          "name": "stdout",
          "output_type": "stream",
          "text": "b\n"
        }
      ],
      "execution_count": 21
    },
    {
      "id": "d150f392-b4c0-486e-9741-af8a3d06af3c",
      "cell_type": "code",
      "source": "# 10. Write a code to reverse the list [10, 20, 30, 40, 50]\na = [10, 20, 30, 40, 50]\na.reverse()\nprint(a)",
      "metadata": {
        "trusted": true
      },
      "outputs": [
        {
          "name": "stdout",
          "output_type": "stream",
          "text": "[50, 40, 30, 20, 10]\n"
        }
      ],
      "execution_count": 25
    },
    {
      "id": "e908f7b4-6b2b-4855-8771-b6b773e9fa81",
      "cell_type": "code",
      "source": "# 11.Write a code to create a tuple with the elements 100, 200, 300 and print it.\na = (100, 200, 300)\nprint(a)",
      "metadata": {
        "trusted": true
      },
      "outputs": [
        {
          "name": "stdout",
          "output_type": "stream",
          "text": "(100, 200, 300)\n"
        }
      ],
      "execution_count": 28
    },
    {
      "id": "ab5a9e44-fb79-4eee-ab6a-14266a07afff",
      "cell_type": "code",
      "source": "# 12. Write a code to access the second-to-last element of the tuple ('red', 'green', 'blue', 'yellow')\nt = ('red', 'green', 'blue', 'yellow')\n# to access\nt[1:]",
      "metadata": {
        "trusted": true
      },
      "outputs": [
        {
          "execution_count": 29,
          "output_type": "execute_result",
          "data": {
            "text/plain": "('green', 'blue', 'yellow')"
          },
          "metadata": {}
        }
      ],
      "execution_count": 29
    },
    {
      "id": "7d50127c-542f-40af-bb68-908f4c4e660e",
      "cell_type": "code",
      "source": "# 13. Write a code to find the minimum number in the tuple (10, 20, 5, 15).\nz = (10, 20, 5, 15)\na = min(z)\nprint(a)",
      "metadata": {
        "trusted": true
      },
      "outputs": [
        {
          "name": "stdout",
          "output_type": "stream",
          "text": "5\n"
        }
      ],
      "execution_count": 36
    },
    {
      "id": "49cf1fa8-70e8-4ae5-8211-9507d4034b08",
      "cell_type": "code",
      "source": "# 14.  Write a code to find the index of the element \"cat\" in the tuple ('dog', 'cat', 'rabbit').\nanimals = ('dog', 'cat', 'rabbit')\nindex = animals.index('cat')\nprint(index)\n",
      "metadata": {
        "trusted": true
      },
      "outputs": [
        {
          "name": "stdout",
          "output_type": "stream",
          "text": "1\n"
        }
      ],
      "execution_count": 3
    },
    {
      "id": "bfcd66df-0b3c-420d-a2d6-410188cb7ad7",
      "cell_type": "code",
      "source": "# 15. Write a code to create a tuple containing three different fruits and check if \"kiwi\" is in it.\nfruits = (\"apple\", \"banana\", \"cherry\")\n\n\nif \"kiwi\" in fruits:\n    print(\"Kiwi is in the tuple.\")\nelse:\n    print(\"Kiwi is not in the tuple.\")\n",
      "metadata": {
        "trusted": true
      },
      "outputs": [
        {
          "name": "stdout",
          "output_type": "stream",
          "text": "Kiwi is not in the tuple.\n"
        }
      ],
      "execution_count": 4
    },
    {
      "id": "88bf67c1-6639-4b0b-9b37-d81ed72592b2",
      "cell_type": "code",
      "source": "# 16. Write a code to create a set with the elements 'a', 'b', 'c' and print it.\nmy_set = {'a', 'b', 'c'}\nprint(my_set)\n",
      "metadata": {
        "trusted": true
      },
      "outputs": [
        {
          "name": "stdout",
          "output_type": "stream",
          "text": "{'a', 'b', 'c'}\n"
        }
      ],
      "execution_count": 5
    },
    {
      "id": "6ec31772-fad8-419d-bc76-14f214ebb5a5",
      "cell_type": "code",
      "source": "# 17. Write a code to clear all elements from the set {1, 2, 3, 4, 5}\nmy_set = {1, 2, 3, 4, 5}\nmy_set.clear()\nprint(my_set) \n",
      "metadata": {
        "trusted": true
      },
      "outputs": [
        {
          "name": "stdout",
          "output_type": "stream",
          "text": "set()\n"
        }
      ],
      "execution_count": 6
    },
    {
      "id": "2dc87855-d05f-494e-b722-9ddd44d2691c",
      "cell_type": "code",
      "source": "# 18. Write a code to remove the element 4 from the set {1, 2, 3, 4}\nmy_set = {1, 2, 3, 4}\nmy_set.discard(4)\nprint(my_set)  # Output: {1, 2, 3}\n",
      "metadata": {
        "trusted": true
      },
      "outputs": [
        {
          "name": "stdout",
          "output_type": "stream",
          "text": "{1, 2, 3}\n"
        }
      ],
      "execution_count": 7
    },
    {
      "id": "9d06ce44-5166-4901-bd58-09c5126ede1d",
      "cell_type": "code",
      "source": "# 19.  Write a code to find the union of two sets {1, 2, 3} and {3, 4, 5}.\nset1 = {1, 2, 3}\nset2 = {3, 4, 5}\nunion_set = set1 | set2\nprint(union_set)  \n",
      "metadata": {
        "trusted": true
      },
      "outputs": [
        {
          "name": "stdout",
          "output_type": "stream",
          "text": "{1, 2, 3, 4, 5}\n"
        }
      ],
      "execution_count": 8
    },
    {
      "id": "a0eed050-47b1-4cd4-aef1-2c4602bd08b1",
      "cell_type": "code",
      "source": "# 20. Write a code to find the intersection of two sets {1, 2, 3} and {2, 3, 4}.\nset1 = {1, 2, 3}\nset2 = {2, 3, 4}\nintersection_set = set1 & set2\nprint(intersection_set)  ",
      "metadata": {
        "trusted": true
      },
      "outputs": [
        {
          "name": "stdout",
          "output_type": "stream",
          "text": "{2, 3}\n"
        }
      ],
      "execution_count": 9
    },
    {
      "id": "9cf27fc8-14d7-4678-8c69-17e4de0152ed",
      "cell_type": "code",
      "source": "# 21.  Write a code to create a dictionary with the keys \"name\", \"age\", and \"city\", and print it.\nmy_dict = {\n    \"name\": \"Alice\",\n    \"age\": 25,\n    \"city\": \"New York\"\n}\n\nprint(my_dict)\n",
      "metadata": {
        "trusted": true
      },
      "outputs": [
        {
          "name": "stdout",
          "output_type": "stream",
          "text": "{'name': 'Alice', 'age': 25, 'city': 'New York'}\n"
        }
      ],
      "execution_count": 10
    },
    {
      "id": "1f360107-eae5-4c95-8309-acff62ee773e",
      "cell_type": "code",
      "source": "# 22.  Write a code to add a new key-value pair \"country\": \"USA\" to the dictionary {'name': 'John', 'age': 25}.\nmy_dict = {'name': 'John', 'age': 25}\nmy_dict['country'] = 'USA'  \nprint(my_dict)\n",
      "metadata": {
        "trusted": true
      },
      "outputs": [
        {
          "name": "stdout",
          "output_type": "stream",
          "text": "{'name': 'John', 'age': 25, 'country': 'USA'}\n"
        }
      ],
      "execution_count": 11
    },
    {
      "id": "5c699fe7-72c6-420e-bd02-da943296dc4a",
      "cell_type": "code",
      "source": "# 23.  Write a code to access the value associated with the key \"name\" in the dictionary {'name': 'Alice', 'age': 30}\nmy_dict = {'name': 'Alice', 'age': 30}\nname_value = my_dict['name']\nprint(name_value) \n",
      "metadata": {
        "trusted": true
      },
      "outputs": [
        {
          "name": "stdout",
          "output_type": "stream",
          "text": "Alice\n"
        }
      ],
      "execution_count": 13
    },
    {
      "id": "044983b0-2c07-4ac7-a816-3b8a7e099de0",
      "cell_type": "code",
      "source": "# 24.  Write a code to remove the key \"age\" from the dictionary {'name': 'Bob', 'age': 22, 'city': 'New York'}\nmy_dict = {'name': 'Bob', 'age': 22, 'city': 'New York'}\ndel my_dict['age']  \nprint(my_dict)\n",
      "metadata": {
        "trusted": true
      },
      "outputs": [
        {
          "name": "stdout",
          "output_type": "stream",
          "text": "{'name': 'Bob', 'city': 'New York'}\n"
        }
      ],
      "execution_count": 14
    },
    {
      "id": "1179b0ed-56dc-403c-81c5-a4f363693e70",
      "cell_type": "code",
      "source": "# 25. . Write a code to check if the key \"city\" exists in the dictionary {'name': 'Alice', 'city': 'Paris'}.\nmy_dict = {'name': 'Alice', 'city': 'Paris'}\nif 'city' in my_dict:\n    print(\"Key 'city' exists in the dictionary\")\nelse:\n    print(\"Key 'city' does not exist in the dictionary\")\n",
      "metadata": {
        "trusted": true
      },
      "outputs": [
        {
          "name": "stdout",
          "output_type": "stream",
          "text": "Key 'city' exists in the dictionary\n"
        }
      ],
      "execution_count": 15
    },
    {
      "id": "2b9fca31-2adb-40f4-932d-1c734a735064",
      "cell_type": "code",
      "source": "# 26. Write a code to create a list, a tuple, and a dictionary, and print them all.\n# Creating a list\nmy_list = [1, 2, 3, 4, 5]\n\n# Creating a tuple\nmy_tuple = ('apple', 'banana', 'cherry')\n\n# Creating a dictionary\nmy_dict = {'name': 'Alice', 'age': 25, 'city': 'New York'}\n\n# Printing all data structures\nprint(\"List:\", my_list)\nprint(\"Tuple:\", my_tuple)\nprint(\"Dictionary:\", my_dict)\n",
      "metadata": {
        "trusted": true
      },
      "outputs": [
        {
          "name": "stdout",
          "output_type": "stream",
          "text": "List: [1, 2, 3, 4, 5]\nTuple: ('apple', 'banana', 'cherry')\nDictionary: {'name': 'Alice', 'age': 25, 'city': 'New York'}\n"
        }
      ],
      "execution_count": 16
    },
    {
      "id": "cd571229-9231-45ff-a464-342261f3130e",
      "cell_type": "code",
      "source": "# 27. Write a code to create a list of 5 random numbers between 1 and 100, sort it in ascending order, and print the result.(replaced)\nimport random\n\n# Generate a list of 5 random numbers between 1 and 100\nrandom_numbers = random.sample(range(1, 101), 5)\n\n# Sort the list in ascending order\nrandom_numbers.sort()\n\n# Print the sorted list\nprint(\"Sorted random numbers:\", random_numbers)\n\n\n\n",
      "metadata": {
        "trusted": true
      },
      "outputs": [
        {
          "name": "stdout",
          "output_type": "stream",
          "text": "Sorted random numbers: [12, 25, 45, 54, 68]\n"
        }
      ],
      "execution_count": 1
    },
    {
      "id": "8f2fb5cc-9a90-41f7-bfd5-ce93dadcf095",
      "cell_type": "code",
      "source": "# 28.  Write a code to create a list with strings and print the element at the third index\n# Creating a list with strings\nmy_list = [\"apple\", \"banana\", \"cherry\", \"date\", \"strawberry\"]\n\nprint(my_list[3])\n",
      "metadata": {
        "trusted": true
      },
      "outputs": [
        {
          "name": "stdout",
          "output_type": "stream",
          "text": "date\n"
        }
      ],
      "execution_count": 1
    },
    {
      "id": "737e24c1-fca6-4d59-abdb-5e949917f397",
      "cell_type": "code",
      "source": "# 29.  Write a code to combine two dictionaries into one and print the result.\ndict1 = {'a': 1, 'b': 2}\ndict2 = {'c': 3, 'd': 4}\ncombined_dict = {**dict1, **dict2}\nprint(\"Combined Dictionary:\", combined_dict)\n",
      "metadata": {
        "trusted": true
      },
      "outputs": [
        {
          "name": "stdout",
          "output_type": "stream",
          "text": "Combined Dictionary: {'a': 1, 'b': 2, 'c': 3, 'd': 4}\n"
        }
      ],
      "execution_count": 22
    },
    {
      "id": "e3db0ae7-1907-439c-b2ae-0bb055499a9a",
      "cell_type": "code",
      "source": "# 30. Write a code to convert a list of strings into a set\nmy_list = [\"apple\", \"banana\", \"cherry\", \"apple\", \"banana\"]\nmy_set = set(my_list)\nprint(\"Converted Set:\", my_set)\n",
      "metadata": {
        "trusted": true
      },
      "outputs": [
        {
          "name": "stdout",
          "output_type": "stream",
          "text": "Converted Set: {'banana', 'cherry', 'apple'}\n"
        }
      ],
      "execution_count": 23
    }
  ]
}